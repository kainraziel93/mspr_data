{
 "cells": [
  {
   "cell_type": "code",
   "execution_count": 4,
   "metadata": {},
   "outputs": [],
   "source": [
    "import pandas as pd\n",
    "import numpy as np"
   ]
  },
  {
   "cell_type": "code",
   "execution_count": 5,
   "metadata": {},
   "outputs": [],
   "source": [
    "#Récupération et fusion des différentes tables\n",
    "\n",
    "data = pd.read_excel('DataFinal.xlsx')\n",
    "data.rename(columns={'Code.de.la.commune': 'CodeCommune'}, inplace=True)\n",
    "\n",
    "chomage = pd.read_excel('TaucChommage.xlsx')\n",
    "chomage = chomage.drop(['codgeo', 'libgeo'], axis=1)\n",
    "\n",
    "pop = pd.read_excel('populationParCommune.xlsx')\n",
    "pop = pop.drop(['codgeo', 'libgeo'], axis=1)\n",
    "\n",
    "vie = pd.read_excel('NiveauDeVieParCommune.xlsx')\n",
    "vie = vie.drop(['Code'], axis=1)\n",
    "\n",
    "data = pd.merge(data, chomage, on='CodeCommune')\n",
    "data = pd.merge(data, pop, on='CodeCommune')\n",
    "data = pd.merge(data, vie, on='CodeCommune')\n",
    "\n",
    "data = data.dropna(subset=['Niveau de vie Commune'])\n",
    "data\n",
    "data.to_excel('data.xlsx', index=False)\n",
    "\n"
   ]
  },
  {
   "cell_type": "code",
   "execution_count": null,
   "metadata": {},
   "outputs": [],
   "source": []
  }
 ],
 "metadata": {
  "kernelspec": {
   "display_name": "Python 3 (ipykernel)",
   "language": "python",
   "name": "python3"
  },
  "language_info": {
   "codemirror_mode": {
    "name": "ipython",
    "version": 3
   },
   "file_extension": ".py",
   "mimetype": "text/x-python",
   "name": "python",
   "nbconvert_exporter": "python",
   "pygments_lexer": "ipython3",
   "version": "3.10.8"
  }
 },
 "nbformat": 4,
 "nbformat_minor": 4
}
